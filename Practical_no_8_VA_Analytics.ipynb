{
  "nbformat": 4,
  "nbformat_minor": 0,
  "metadata": {
    "colab": {
      "provenance": []
    },
    "kernelspec": {
      "name": "python3",
      "display_name": "Python 3"
    },
    "language_info": {
      "name": "python"
    }
  },
  "cells": [
    {
      "cell_type": "code",
      "execution_count": 1,
      "metadata": {
        "id": "QiQUw_UtL3Zh"
      },
      "outputs": [],
      "source": [
        "# Motion detection and Optical flow: Detect motion and analyze optical flow using background substraction and optical flow algorithm"
      ]
    },
    {
      "cell_type": "code",
      "source": [
        "# 1. Motion Detection with Background Subtraction\n",
        "\n",
        "\n",
        "\n",
        "# Background subtraction is a common way to detect motion by isolating moving objects from a static background.\n",
        "\n",
        "# OpenCV's Background Subtractor: Use OpenCV's cv2.createBackgroundSubtractorMOG2() or cv2.createBackgroundSubtractorKNN() for adaptive background subtraction.\n",
        "\n",
        "import cv2\n",
        "# Import cv2_imshow from google.colab.patches\n",
        "from google.colab.patches import cv2_imshow\n",
        "\n",
        "# Load video\n",
        "cap = cv2.VideoCapture('/content/855289-hd_1920_1080_25fps (1).mp4')\n",
        "\n",
        "# Initialize background subtractor\n",
        "bg_subtractor = cv2.createBackgroundSubtractorMOG2(history=500, varThreshold=16, detectShadows=True)\n",
        "\n",
        "while cap.isOpened():\n",
        "    ret, frame = cap.read()\n",
        "    if not ret:\n",
        "        break\n",
        "\n",
        "    # Apply background subtraction\n",
        "    fg_mask = bg_subtractor.apply(frame)\n",
        "\n",
        "    # Display the result\n",
        "    # Use cv2_imshow instead of cv2.imshow\n",
        "    cv2_imshow(fg_mask)\n",
        "\n",
        "    if cv2.waitKey(30) & 0xFF == ord('q'):\n",
        "        break\n",
        "\n",
        "cap.release()\n",
        "cv2.destroyAllWindows()"
      ],
      "metadata": {
        "id": "kRLQnXeGL7U0"
      },
      "execution_count": null,
      "outputs": []
    },
    {
      "cell_type": "code",
      "source": [
        "#2. Optical Flow Analysis\n",
        "\n",
        "\n",
        "# Optical flow helps track the movement of detected objects over time. You can use Dense Optical Flow (Farneback method) for this purpose.\n",
        "\n",
        "# Farneback Method: Use OpenCV’s cv2.calcOpticalFlowFarneback() to calculate dense optical flow, which produces a flow vector for each pixel.\n",
        "\n",
        "\n",
        "import cv2\n",
        "# Import cv2_imshow for display in Colab\n",
        "from google.colab.patches import cv2_imshow\n",
        "\n",
        "# Load video\n",
        "cap = cv2.VideoCapture('/content/855289-hd_1920_1080_25fps (1).mp4')\n",
        "\n",
        "# Initialize background subtractor\n",
        "bg_subtractor = cv2.createBackgroundSubtractorMOG2(history=500, varThreshold=16, detectShadows=True)\n",
        "\n",
        "while cap.isOpened():\n",
        "    ret, frame = cap.read()\n",
        "    if not ret:\n",
        "        break\n",
        "\n",
        "    # Apply background subtraction\n",
        "    fg_mask = bg_subtractor.apply(frame)\n",
        "\n",
        "    # Display the result using cv2_imshow for Colab compatibility\n",
        "    cv2_imshow(fg_mask)\n",
        "\n",
        "    if cv2.waitKey(30) & 0xFF == ord('q'):\n",
        "        break\n",
        "\n",
        "cap.release()\n",
        "cv2.destroyAllWindows()"
      ],
      "metadata": {
        "id": "O9KIOkelMQYr"
      },
      "execution_count": null,
      "outputs": []
    }
  ]
}